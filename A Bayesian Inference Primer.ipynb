{
 "cells": [
  {
   "cell_type": "markdown",
   "id": "e4a65604",
   "metadata": {},
   "source": [
    "• Statistical modeling\n",
    "\n",
    "• Probabilities and uncertainty\n",
    "\n",
    "• Bayes' theorem and statistical inference\n",
    "\n",
    "• Single parameter inference and the classic coin-flip problem\n",
    "\n",
    "• Choosing priors and why people often don't like them, but should\n",
    "\n",
    "• Communicating a Bayesian analysis\n",
    "\n",
    "• Installing all Python packages"
   ]
  },
  {
   "cell_type": "markdown",
   "id": "e73dd00d",
   "metadata": {},
   "source": [
    "# Data Exploration\n",
    "\n",
    "Once dataset it obtained: explore and visualize it in order to get some intuition about what we have in our hands. Look into the other Notebook for that section.\n",
    "\n",
    "• Descriptive statistics\n",
    "\n",
    "• Data visualization"
   ]
  },
  {
   "cell_type": "markdown",
   "id": "82d74add",
   "metadata": {},
   "source": [
    "# Inferential statistics"
   ]
  },
  {
   "cell_type": "markdown",
   "id": "1157b2ed",
   "metadata": {},
   "source": [
    "Models are simplified descriptions of a given system (or process). Those descriptions are purposely designed to capture only the most relevant aspects of the system, and hence, most models do not pretend they are able to explain\n",
    "everything; on the contrary, if we have a simple and a complex model and both\n",
    "models explain the data more or less equally well, we will generally prefer the\n",
    "simpler one. This heuristic for simple models is known as Occam's razor, and we will\n",
    "discuss how it is related to Bayesian analysis in Chapter 6, Model Comparison."
   ]
  },
  {
   "cell_type": "markdown",
   "id": "79ab1bc4",
   "metadata": {},
   "source": [
    "Model building, no matter which type of model you are building, is an iterative\n",
    "process following more or less the same basic rules. We can summarize the Bayesian\n",
    "modeling process using three steps:\n",
    "\n",
    "** 1. Given some data and some assumptions on how this data could have been\n",
    "generated, we will build models. Most of the time, models will be crude\n",
    "approximations, but most of the time this is all we need. **\n",
    "\n",
    "** 2. Then we will use Bayes' theorem to add data to our models and derive the\n",
    "logical consequences of mixing the data and our assumptions. We say we are\n",
    "conditioning the model on our data.\n",
    "\n",
    "** 3. Lastly, we will check that the model makes sense according to different\n",
    "criteria, including our data and our expertise on the subject we are studying. **"
   ]
  },
  {
   "cell_type": "code",
   "execution_count": null,
   "id": "40025386",
   "metadata": {},
   "outputs": [],
   "source": []
  }
 ],
 "metadata": {
  "kernelspec": {
   "display_name": "Python 3 (ipykernel)",
   "language": "python",
   "name": "python3"
  },
  "language_info": {
   "codemirror_mode": {
    "name": "ipython",
    "version": 3
   },
   "file_extension": ".py",
   "mimetype": "text/x-python",
   "name": "python",
   "nbconvert_exporter": "python",
   "pygments_lexer": "ipython3",
   "version": "3.7.11"
  }
 },
 "nbformat": 4,
 "nbformat_minor": 5
}
